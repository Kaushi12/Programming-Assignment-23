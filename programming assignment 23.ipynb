{
 "cells": [
  {
   "cell_type": "code",
   "execution_count": 1,
   "id": "34bf94a4",
   "metadata": {},
   "outputs": [],
   "source": [
    "#Ques1\n",
    "def is_symmetrical(num):\n",
    "    num=str(num)\n",
    "    if num[::-1]==num:\n",
    "        return True\n",
    "    else:\n",
    "        return False\n",
    "        "
   ]
  },
  {
   "cell_type": "code",
   "execution_count": 3,
   "id": "ab6d6a23",
   "metadata": {},
   "outputs": [
    {
     "data": {
      "text/plain": [
       "False"
      ]
     },
     "execution_count": 3,
     "metadata": {},
     "output_type": "execute_result"
    }
   ],
   "source": [
    "is_symmetrical(12567)"
   ]
  },
  {
   "cell_type": "code",
   "execution_count": 34,
   "id": "39a7d219",
   "metadata": {},
   "outputs": [],
   "source": [
    "#Ques2\n",
    "def multiply_nums(s):\n",
    "    s=s.replace(',','')\n",
    "    s=s.replace(' ','')\n",
    "    n=int(s)\n",
    "    mul=1\n",
    "    while n!=0:\n",
    "        x=n%10\n",
    "        mul=mul*x\n",
    "        n=n//10\n",
    "    return mul\n",
    "    \n",
    "        "
   ]
  },
  {
   "cell_type": "code",
   "execution_count": 35,
   "id": "56199f4e",
   "metadata": {},
   "outputs": [
    {
     "data": {
      "text/plain": [
       "6"
      ]
     },
     "execution_count": 35,
     "metadata": {},
     "output_type": "execute_result"
    }
   ],
   "source": [
    "multiply_nums(\"2, 3\")"
   ]
  },
  {
   "cell_type": "code",
   "execution_count": 46,
   "id": "1103135d",
   "metadata": {},
   "outputs": [],
   "source": [
    "#Ques3\n",
    "def square_digits(num):\n",
    "    sti=str(num)\n",
    "    s=''\n",
    "    for i in sti:\n",
    "        b=int(i)\n",
    "        c=b*b\n",
    "        s=s+str(c)\n",
    "    return int(s)\n",
    "        \n",
    "        \n",
    "        "
   ]
  },
  {
   "cell_type": "code",
   "execution_count": 47,
   "id": "4f90fd44",
   "metadata": {},
   "outputs": [
    {
     "data": {
      "text/plain": [
       "416649"
      ]
     },
     "execution_count": 47,
     "metadata": {},
     "output_type": "execute_result"
    }
   ],
   "source": [
    "square_digits(2483)"
   ]
  },
  {
   "cell_type": "code",
   "execution_count": 48,
   "id": "ae621693",
   "metadata": {},
   "outputs": [],
   "source": [
    "#Ques4\n",
    "def setisfy(lis):\n",
    "    x=set(lis)\n",
    "    y=list(x)\n",
    "    y.sort()\n",
    "    return y"
   ]
  },
  {
   "cell_type": "code",
   "execution_count": 50,
   "id": "ab177346",
   "metadata": {},
   "outputs": [
    {
     "data": {
      "text/plain": [
       "[1, 2, 3]"
      ]
     },
     "execution_count": 50,
     "metadata": {},
     "output_type": "execute_result"
    }
   ],
   "source": [
    "setisfy([3,3,3,2,1])"
   ]
  },
  {
   "cell_type": "code",
   "execution_count": 55,
   "id": "583a363c",
   "metadata": {},
   "outputs": [],
   "source": [
    "#Ques5\n",
    "def mean(number):\n",
    "    add=0\n",
    "    s=str(number)\n",
    "    l=len(s)\n",
    "    while number!=0:\n",
    "        v=number%10\n",
    "        add=add+v\n",
    "        number=number//10\n",
    "    return int(add/l)\n",
    "        "
   ]
  },
  {
   "cell_type": "code",
   "execution_count": 57,
   "id": "0f4ae24e",
   "metadata": {},
   "outputs": [
    {
     "data": {
      "text/plain": [
       "3"
      ]
     },
     "execution_count": 57,
     "metadata": {},
     "output_type": "execute_result"
    }
   ],
   "source": [
    "mean(12345)"
   ]
  },
  {
   "cell_type": "code",
   "execution_count": null,
   "id": "95394ce3",
   "metadata": {},
   "outputs": [],
   "source": []
  }
 ],
 "metadata": {
  "kernelspec": {
   "display_name": "Python 3",
   "language": "python",
   "name": "python3"
  },
  "language_info": {
   "codemirror_mode": {
    "name": "ipython",
    "version": 3
   },
   "file_extension": ".py",
   "mimetype": "text/x-python",
   "name": "python",
   "nbconvert_exporter": "python",
   "pygments_lexer": "ipython3",
   "version": "3.8.8"
  }
 },
 "nbformat": 4,
 "nbformat_minor": 5
}
